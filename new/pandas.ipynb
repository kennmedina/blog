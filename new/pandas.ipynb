{
 "metadata": {
  "name": ""
 },
 "nbformat": 3,
 "nbformat_minor": 0,
 "worksheets": [
  {
   "cells": [
    {
     "cell_type": "code",
     "collapsed": false,
     "input": [
      "import pandas as pd\n",
      "\n",
      "import pandas.io.data as web\n",
      "\n",
      "all_data = {}\n",
      "for ticker in ['AAPL', 'GOOG', 'IBM', 'YHOO', 'MSFT']:\n",
      "    all_data[ticker] = web.get_data_yahoo(ticker, '1/1/2010', '1/1/2013')\n",
      "price = pd.DataFrame({tic: data['Adj Close'] for tic, data in all_data.items()})"
     ],
     "language": "python",
     "metadata": {},
     "outputs": [
      {
       "ename": "IOError",
       "evalue": "after 3 tries, Yahoo! did not return a 200 for url 'http://ichart.yahoo.com/table.csv?s=GOOG&a=0&b=1&c=2010&d=0&e=1&f=2013&g=d&ignore=.csv'",
       "output_type": "pyerr",
       "traceback": [
        "\u001b[0;31m---------------------------------------------------------------------------\u001b[0m\n\u001b[0;31mIOError\u001b[0m                                   Traceback (most recent call last)",
        "\u001b[0;32m<ipython-input-1-2da090b2fb42>\u001b[0m in \u001b[0;36m<module>\u001b[0;34m()\u001b[0m\n\u001b[1;32m      5\u001b[0m \u001b[0mall_data\u001b[0m \u001b[0;34m=\u001b[0m \u001b[0;34m{\u001b[0m\u001b[0;34m}\u001b[0m\u001b[0;34m\u001b[0m\u001b[0m\n\u001b[1;32m      6\u001b[0m \u001b[0;32mfor\u001b[0m \u001b[0mticker\u001b[0m \u001b[0;32min\u001b[0m \u001b[0;34m[\u001b[0m\u001b[0;34m'AAPL'\u001b[0m\u001b[0;34m,\u001b[0m \u001b[0;34m'GOOG'\u001b[0m\u001b[0;34m,\u001b[0m \u001b[0;34m'IBM'\u001b[0m\u001b[0;34m,\u001b[0m \u001b[0;34m'YHOO'\u001b[0m\u001b[0;34m,\u001b[0m \u001b[0;34m'MSFT'\u001b[0m\u001b[0;34m]\u001b[0m\u001b[0;34m:\u001b[0m\u001b[0;34m\u001b[0m\u001b[0m\n\u001b[0;32m----> 7\u001b[0;31m     \u001b[0mall_data\u001b[0m\u001b[0;34m[\u001b[0m\u001b[0mticker\u001b[0m\u001b[0;34m]\u001b[0m \u001b[0;34m=\u001b[0m \u001b[0mweb\u001b[0m\u001b[0;34m.\u001b[0m\u001b[0mget_data_yahoo\u001b[0m\u001b[0;34m(\u001b[0m\u001b[0mticker\u001b[0m\u001b[0;34m,\u001b[0m \u001b[0;34m'1/1/2010'\u001b[0m\u001b[0;34m,\u001b[0m \u001b[0;34m'1/1/2013'\u001b[0m\u001b[0;34m)\u001b[0m\u001b[0;34m\u001b[0m\u001b[0m\n\u001b[0m\u001b[1;32m      8\u001b[0m \u001b[0mprice\u001b[0m \u001b[0;34m=\u001b[0m \u001b[0mpd\u001b[0m\u001b[0;34m.\u001b[0m\u001b[0mDataFrame\u001b[0m\u001b[0;34m(\u001b[0m\u001b[0;34m{\u001b[0m\u001b[0mtic\u001b[0m\u001b[0;34m:\u001b[0m \u001b[0mdata\u001b[0m\u001b[0;34m[\u001b[0m\u001b[0;34m'Adj Close'\u001b[0m\u001b[0;34m]\u001b[0m \u001b[0;32mfor\u001b[0m \u001b[0mtic\u001b[0m\u001b[0;34m,\u001b[0m \u001b[0mdata\u001b[0m \u001b[0;32min\u001b[0m \u001b[0mall_data\u001b[0m\u001b[0;34m.\u001b[0m\u001b[0mitems\u001b[0m\u001b[0;34m(\u001b[0m\u001b[0;34m)\u001b[0m\u001b[0;34m}\u001b[0m\u001b[0;34m)\u001b[0m\u001b[0;34m\u001b[0m\u001b[0m\n",
        "\u001b[0;32m/Library/Frameworks/EPD64.framework/Versions/7.3/lib/python2.7/site-packages/pandas/io/data.py\u001b[0m in \u001b[0;36mget_data_yahoo\u001b[0;34m(symbols, start, end, retry_count, pause, adjust_price, ret_index, chunksize, name)\u001b[0m\n\u001b[1;32m    388\u001b[0m     \"\"\"\n\u001b[1;32m    389\u001b[0m     return _get_data_from(symbols, start, end, retry_count, pause,\n\u001b[0;32m--> 390\u001b[0;31m                           adjust_price, ret_index, chunksize, 'yahoo', name)\n\u001b[0m\u001b[1;32m    391\u001b[0m \u001b[0;34m\u001b[0m\u001b[0m\n\u001b[1;32m    392\u001b[0m \u001b[0;34m\u001b[0m\u001b[0m\n",
        "\u001b[0;32m/Library/Frameworks/EPD64.framework/Versions/7.3/lib/python2.7/site-packages/pandas/io/data.py\u001b[0m in \u001b[0;36m_get_data_from\u001b[0;34m(symbols, start, end, retry_count, pause, adjust_price, ret_index, chunksize, source, name)\u001b[0m\n\u001b[1;32m    334\u001b[0m     \u001b[0;31m# If a single symbol, (e.g., 'GOOG')\u001b[0m\u001b[0;34m\u001b[0m\u001b[0;34m\u001b[0m\u001b[0m\n\u001b[1;32m    335\u001b[0m     \u001b[0;32mif\u001b[0m \u001b[0misinstance\u001b[0m\u001b[0;34m(\u001b[0m\u001b[0msymbols\u001b[0m\u001b[0;34m,\u001b[0m \u001b[0;34m(\u001b[0m\u001b[0mbasestring\u001b[0m\u001b[0;34m,\u001b[0m \u001b[0mint\u001b[0m\u001b[0;34m)\u001b[0m\u001b[0;34m)\u001b[0m\u001b[0;34m:\u001b[0m\u001b[0;34m\u001b[0m\u001b[0m\n\u001b[0;32m--> 336\u001b[0;31m         \u001b[0mhist_data\u001b[0m \u001b[0;34m=\u001b[0m \u001b[0msrc_fn\u001b[0m\u001b[0;34m(\u001b[0m\u001b[0msymbols\u001b[0m\u001b[0;34m,\u001b[0m \u001b[0mstart\u001b[0m\u001b[0;34m,\u001b[0m \u001b[0mend\u001b[0m\u001b[0;34m,\u001b[0m \u001b[0mretry_count\u001b[0m\u001b[0;34m,\u001b[0m \u001b[0mpause\u001b[0m\u001b[0;34m)\u001b[0m\u001b[0;34m\u001b[0m\u001b[0m\n\u001b[0m\u001b[1;32m    337\u001b[0m     \u001b[0;31m# Or multiple symbols, (e.g., ['GOOG', 'AAPL', 'MSFT'])\u001b[0m\u001b[0;34m\u001b[0m\u001b[0;34m\u001b[0m\u001b[0m\n\u001b[1;32m    338\u001b[0m     \u001b[0;32melif\u001b[0m \u001b[0misinstance\u001b[0m\u001b[0;34m(\u001b[0m\u001b[0msymbols\u001b[0m\u001b[0;34m,\u001b[0m \u001b[0mDataFrame\u001b[0m\u001b[0;34m)\u001b[0m\u001b[0;34m:\u001b[0m\u001b[0;34m\u001b[0m\u001b[0m\n",
        "\u001b[0;32m/Library/Frameworks/EPD64.framework/Versions/7.3/lib/python2.7/site-packages/pandas/io/data.py\u001b[0m in \u001b[0;36m_get_hist_yahoo\u001b[0;34m(sym, start, end, retry_count, pause)\u001b[0m\n\u001b[1;32m    188\u001b[0m            \u001b[0;34m'&g=d'\u001b[0m \u001b[0;34m+\u001b[0m\u001b[0;34m\u001b[0m\u001b[0m\n\u001b[1;32m    189\u001b[0m            '&ignore=.csv')\n\u001b[0;32m--> 190\u001b[0;31m     \u001b[0;32mreturn\u001b[0m \u001b[0m_retry_read_url\u001b[0m\u001b[0;34m(\u001b[0m\u001b[0murl\u001b[0m\u001b[0;34m,\u001b[0m \u001b[0mretry_count\u001b[0m\u001b[0;34m,\u001b[0m \u001b[0mpause\u001b[0m\u001b[0;34m,\u001b[0m \u001b[0;34m'Yahoo!'\u001b[0m\u001b[0;34m)\u001b[0m\u001b[0;34m\u001b[0m\u001b[0m\n\u001b[0m\u001b[1;32m    191\u001b[0m \u001b[0;34m\u001b[0m\u001b[0m\n\u001b[1;32m    192\u001b[0m \u001b[0;34m\u001b[0m\u001b[0m\n",
        "\u001b[0;32m/Library/Frameworks/EPD64.framework/Versions/7.3/lib/python2.7/site-packages/pandas/io/data.py\u001b[0m in \u001b[0;36m_retry_read_url\u001b[0;34m(url, retry_count, pause, name)\u001b[0m\n\u001b[1;32m    167\u001b[0m \u001b[0;34m\u001b[0m\u001b[0m\n\u001b[1;32m    168\u001b[0m     raise IOError(\"after %d tries, %s did not \"\n\u001b[0;32m--> 169\u001b[0;31m                   \"return a 200 for url %r\" % (retry_count, name, url))\n\u001b[0m\u001b[1;32m    170\u001b[0m \u001b[0;34m\u001b[0m\u001b[0m\n\u001b[1;32m    171\u001b[0m \u001b[0;34m\u001b[0m\u001b[0m\n",
        "\u001b[0;31mIOError\u001b[0m: after 3 tries, Yahoo! did not return a 200 for url 'http://ichart.yahoo.com/table.csv?s=GOOG&a=0&b=1&c=2010&d=0&e=1&f=2013&g=d&ignore=.csv'"
       ]
      }
     ],
     "prompt_number": 1
    },
    {
     "cell_type": "code",
     "collapsed": false,
     "input": [
      "ls"
     ],
     "language": "python",
     "metadata": {},
     "outputs": [
      {
       "output_type": "stream",
       "stream": "stdout",
       "text": [
        "archives.html    categories.html  \u001b[34mimages\u001b[m\u001b[m/          \u001b[34mtheme\u001b[m\u001b[m/\r\n",
        "\u001b[34mauthor\u001b[m\u001b[m/          \u001b[34mcategory\u001b[m\u001b[m/        index.html\r\n",
        "authors.html     cv.html          pandas.ipynb\r\n",
        "blog.html        \u001b[34mfeeds\u001b[m\u001b[m/           tags.html\r\n"
       ]
      }
     ],
     "prompt_number": 2
    },
    {
     "cell_type": "code",
     "collapsed": false,
     "input": [
      "cd\n"
     ],
     "language": "python",
     "metadata": {},
     "outputs": [
      {
       "output_type": "stream",
       "stream": "stdout",
       "text": [
        "/Users/cubreto\n"
       ]
      }
     ],
     "prompt_number": 3
    },
    {
     "cell_type": "code",
     "collapsed": false,
     "input": [
      "ls\n"
     ],
     "language": "python",
     "metadata": {},
     "outputs": [
      {
       "output_type": "stream",
       "stream": "stdout",
       "text": [
        "-f                             canvas_3.png\r\n",
        "\u001b[34mApplications\u001b[m\u001b[m/                  cluster_hy_f01.pdf\r\n",
        "\u001b[34mCloudera\u001b[m\u001b[m/                      concat_fitresult.root\r\n",
        "\u001b[34mDesktop\u001b[m\u001b[m/                       exampleDendrogram1.png\r\n",
        "\u001b[34mDocuments\u001b[m\u001b[m/                     exampleDendrogram2.png\r\n",
        "\u001b[34mDownloads\u001b[m\u001b[m/                     exampleDendrogram5371.png\r\n",
        "Fit_freak.ipynb                fitresult.root\r\n",
        "Fit_freak.py                   h1.jpg\r\n",
        "GE_Misc.txt                    h1.pdf\r\n",
        "\u001b[34mLibrary\u001b[m\u001b[m/                       h1.png\r\n",
        "Maxwell.tex                    \u001b[34mhdfs\u001b[m\u001b[m/\r\n",
        "\u001b[34mMovies\u001b[m\u001b[m/                        heavyUsers.ipynb\r\n",
        "\u001b[34mMusic\u001b[m\u001b[m/                         heavyUsers.py\r\n",
        "\u001b[34mPictures\u001b[m\u001b[m/                      heavy_Users.py\r\n",
        "\u001b[34mProjects\u001b[m\u001b[m/                      helloworld.c\r\n",
        "\u001b[30m\u001b[43mPublic\u001b[m\u001b[m/                        helloworld.pyx\r\n",
        "R_Hcluster.ipynb               \u001b[31mhelloworld.so\u001b[m\u001b[m*\r\n",
        "R_Hcluster.py                  install_script.sh\r\n",
        "Receipt_pygotham.pdf           json.ipynb\r\n",
        "Roofit_Intro1.ipynb            \u001b[34mjson2avro\u001b[m\u001b[m/\r\n",
        "Roofit_Intro1.py               krb5.conf\r\n",
        "ShoppingAssistant_2014_05.log  \u001b[34mlatex2e-svn\u001b[m\u001b[m/\r\n",
        "ShoppingAssistant_2014_06.log  \u001b[34mlimits\u001b[m\u001b[m/\r\n",
        "ShoppingAssistant_2014_09.log  \u001b[34mmacports\u001b[m\u001b[m/\r\n",
        "\u001b[34mSites\u001b[m\u001b[m/                         \u001b[34mmail\u001b[m\u001b[m/\r\n",
        "\u001b[34mSoftware\u001b[m\u001b[m/                      \u001b[31mmapper.py\u001b[m\u001b[m*\r\n",
        "\u001b[34mSphinx\u001b[m\u001b[m/                        masspeak_Hi.pdf\r\n",
        "Terminal Saved Output          missfont.log\r\n",
        "\u001b[34mThesis\u001b[m\u001b[m/                        movie.py\r\n",
        "Untitled0.ipynb                myframe.png\r\n",
        "Untitled0.py                   newfitresult.root\r\n",
        "Untitled1.ipynb                \u001b[34mnltk_data\u001b[m\u001b[m/\r\n",
        "Untitled1.py                   \u001b[34mnotes\u001b[m\u001b[m/\r\n",
        "Untitled11.py                  pattern.ipynb\r\n",
        "Untitled12.ipynb               pattern.py\r\n",
        "Untitled12.py                  pig_1360865114693.log\r\n",
        "Untitled13.py                  \u001b[34mplfit\u001b[m\u001b[m/\r\n",
        "Untitled14.ipynb               \u001b[34mpycuda\u001b[m\u001b[m/\r\n",
        "Untitled14.py                  \u001b[34mpygotham\u001b[m\u001b[m/\r\n",
        "Untitled15.ipynb               \u001b[34mpymix\u001b[m\u001b[m/\r\n",
        "Untitled15.py                  \u001b[34mpython-cluster\u001b[m\u001b[m/\r\n",
        "Untitled16.ipynb               \u001b[34mquark\u001b[m\u001b[m/\r\n",
        "Untitled16.py                  \u001b[31mreducer.py\u001b[m\u001b[m*\r\n",
        "Untitled17.ipynb               rf.png\r\n",
        "Untitled17.py                  \u001b[34mroot_numpy\u001b[m\u001b[m/\r\n",
        "Untitled2.ipynb                root_power_law_fit.ipynb\r\n",
        "Untitled2.py                   root_power_law_fit.py\r\n",
        "Untitled3.ipynb                \u001b[34mrootplot\u001b[m\u001b[m/\r\n",
        "Untitled4.ipynb                \u001b[34msage\u001b[m\u001b[m/\r\n",
        "Untitled5.ipynb                \u001b[34mscikit_learn_data\u001b[m\u001b[m/\r\n",
        "Untitled6.ipynb                setup.py\r\n",
        "Untitled7.ipynb                slides.ipynb\r\n",
        "Untitled7.py                   slides.py\r\n",
        "Untitled8.ipynb                som\r\n",
        "Untitled8.py                   \u001b[34msplicemachine\u001b[m\u001b[m/\r\n",
        "Untitled9.py                   \u001b[34mtest\u001b[m\u001b[m/\r\n",
        "\u001b[34mVTK\u001b[m\u001b[m/                           tf-idf.ipynb\r\n",
        "\u001b[34mVTK-build\u001b[m\u001b[m/                     tf-idf.py\r\n",
        "\u001b[34mVirtualBox VMs\u001b[m\u001b[m/                tmp8mEd7o.tex\r\n",
        "\u001b[34manaconda\u001b[m\u001b[m/                      tmp_s2F1O.tex\r\n",
        "\u001b[34mandroid-sdks\u001b[m\u001b[m/                  tmplatex.tex\r\n",
        "beam.aux                       top1.png\r\n",
        "beam.log                       try.aux\r\n",
        "beam.synctex.gz(busy)          try.log\r\n",
        "beam.tex                       try.synctex.gz(busy)\r\n",
        "\u001b[34mbin\u001b[m\u001b[m/                           try.tex\r\n",
        "\u001b[34mbuild\u001b[m\u001b[m/                         unix_email.png\r\n",
        "c.png                          \u001b[34mvcprompt\u001b[m\u001b[m/\r\n",
        "c4.png                         \u001b[34mvms\u001b[m\u001b[m/\r\n",
        "c5.png                         \u001b[34mwekafiles\u001b[m\u001b[m/\r\n",
        "c_5.png                        \u001b[34myt-x86_64\u001b[m\u001b[m/\r\n"
       ]
      }
     ],
     "prompt_number": 4
    },
    {
     "cell_type": "code",
     "collapsed": false,
     "input": [
      "ls"
     ],
     "language": "python",
     "metadata": {},
     "outputs": [
      {
       "output_type": "stream",
       "stream": "stdout",
       "text": [
        "-f                             canvas_3.png\r\n",
        "\u001b[34mApplications\u001b[m\u001b[m/                  cluster_hy_f01.pdf\r\n",
        "\u001b[34mCloudera\u001b[m\u001b[m/                      concat_fitresult.root\r\n",
        "\u001b[34mDesktop\u001b[m\u001b[m/                       exampleDendrogram1.png\r\n",
        "\u001b[34mDocuments\u001b[m\u001b[m/                     exampleDendrogram2.png\r\n",
        "\u001b[34mDownloads\u001b[m\u001b[m/                     exampleDendrogram5371.png\r\n",
        "Fit_freak.ipynb                fitresult.root\r\n",
        "Fit_freak.py                   h1.jpg\r\n",
        "GE_Misc.txt                    h1.pdf\r\n",
        "\u001b[34mLibrary\u001b[m\u001b[m/                       h1.png\r\n",
        "Maxwell.tex                    \u001b[34mhdfs\u001b[m\u001b[m/\r\n",
        "\u001b[34mMovies\u001b[m\u001b[m/                        heavyUsers.ipynb\r\n",
        "\u001b[34mMusic\u001b[m\u001b[m/                         heavyUsers.py\r\n",
        "\u001b[34mPictures\u001b[m\u001b[m/                      heavy_Users.py\r\n",
        "\u001b[34mProjects\u001b[m\u001b[m/                      helloworld.c\r\n",
        "\u001b[30m\u001b[43mPublic\u001b[m\u001b[m/                        helloworld.pyx\r\n",
        "R_Hcluster.ipynb               \u001b[31mhelloworld.so\u001b[m\u001b[m*\r\n",
        "R_Hcluster.py                  install_script.sh\r\n",
        "Receipt_pygotham.pdf           json.ipynb\r\n",
        "Roofit_Intro1.ipynb            \u001b[34mjson2avro\u001b[m\u001b[m/\r\n",
        "Roofit_Intro1.py               krb5.conf\r\n",
        "ShoppingAssistant_2014_05.log  \u001b[34mlatex2e-svn\u001b[m\u001b[m/\r\n",
        "ShoppingAssistant_2014_06.log  \u001b[34mlimits\u001b[m\u001b[m/\r\n",
        "ShoppingAssistant_2014_09.log  \u001b[34mmacports\u001b[m\u001b[m/\r\n",
        "\u001b[34mSites\u001b[m\u001b[m/                         \u001b[34mmail\u001b[m\u001b[m/\r\n",
        "\u001b[34mSoftware\u001b[m\u001b[m/                      \u001b[31mmapper.py\u001b[m\u001b[m*\r\n",
        "\u001b[34mSphinx\u001b[m\u001b[m/                        masspeak_Hi.pdf\r\n",
        "Terminal Saved Output          missfont.log\r\n",
        "\u001b[34mThesis\u001b[m\u001b[m/                        movie.py\r\n",
        "Untitled0.ipynb                myframe.png\r\n",
        "Untitled0.py                   newfitresult.root\r\n",
        "Untitled1.ipynb                \u001b[34mnltk_data\u001b[m\u001b[m/\r\n",
        "Untitled1.py                   \u001b[34mnotes\u001b[m\u001b[m/\r\n",
        "Untitled11.py                  pattern.ipynb\r\n",
        "Untitled12.ipynb               pattern.py\r\n",
        "Untitled12.py                  pig_1360865114693.log\r\n",
        "Untitled13.py                  \u001b[34mplfit\u001b[m\u001b[m/\r\n",
        "Untitled14.ipynb               \u001b[34mpycuda\u001b[m\u001b[m/\r\n",
        "Untitled14.py                  \u001b[34mpygotham\u001b[m\u001b[m/\r\n",
        "Untitled15.ipynb               \u001b[34mpymix\u001b[m\u001b[m/\r\n",
        "Untitled15.py                  \u001b[34mpython-cluster\u001b[m\u001b[m/\r\n",
        "Untitled16.ipynb               \u001b[34mquark\u001b[m\u001b[m/\r\n",
        "Untitled16.py                  \u001b[31mreducer.py\u001b[m\u001b[m*\r\n",
        "Untitled17.ipynb               rf.png\r\n",
        "Untitled17.py                  \u001b[34mroot_numpy\u001b[m\u001b[m/\r\n",
        "Untitled2.ipynb                root_power_law_fit.ipynb\r\n",
        "Untitled2.py                   root_power_law_fit.py\r\n",
        "Untitled3.ipynb                \u001b[34mrootplot\u001b[m\u001b[m/\r\n",
        "Untitled4.ipynb                \u001b[34msage\u001b[m\u001b[m/\r\n",
        "Untitled5.ipynb                \u001b[34mscikit_learn_data\u001b[m\u001b[m/\r\n",
        "Untitled6.ipynb                setup.py\r\n",
        "Untitled7.ipynb                slides.ipynb\r\n",
        "Untitled7.py                   slides.py\r\n",
        "Untitled8.ipynb                som\r\n",
        "Untitled8.py                   \u001b[34msplicemachine\u001b[m\u001b[m/\r\n",
        "Untitled9.py                   \u001b[34mtest\u001b[m\u001b[m/\r\n",
        "\u001b[34mVTK\u001b[m\u001b[m/                           tf-idf.ipynb\r\n",
        "\u001b[34mVTK-build\u001b[m\u001b[m/                     tf-idf.py\r\n",
        "\u001b[34mVirtualBox VMs\u001b[m\u001b[m/                tmp8mEd7o.tex\r\n",
        "\u001b[34manaconda\u001b[m\u001b[m/                      tmp_s2F1O.tex\r\n",
        "\u001b[34mandroid-sdks\u001b[m\u001b[m/                  tmplatex.tex\r\n",
        "beam.aux                       top1.png\r\n",
        "beam.log                       try.aux\r\n",
        "beam.synctex.gz(busy)          try.log\r\n",
        "beam.tex                       try.synctex.gz(busy)\r\n",
        "\u001b[34mbin\u001b[m\u001b[m/                           try.tex\r\n",
        "\u001b[34mbuild\u001b[m\u001b[m/                         unix_email.png\r\n",
        "c.png                          \u001b[34mvcprompt\u001b[m\u001b[m/\r\n",
        "c4.png                         \u001b[34mvms\u001b[m\u001b[m/\r\n",
        "c5.png                         \u001b[34mwekafiles\u001b[m\u001b[m/\r\n",
        "c_5.png                        \u001b[34myt-x86_64\u001b[m\u001b[m/\r\n"
       ]
      }
     ],
     "prompt_number": 5
    },
    {
     "cell_type": "code",
     "collapsed": false,
     "input": [
      "cd Desktop/download.bls.gov/pub/time.series/"
     ],
     "language": "python",
     "metadata": {},
     "outputs": [
      {
       "output_type": "stream",
       "stream": "stdout",
       "text": [
        "/Users/cubreto/Desktop/download.bls.gov/pub/time.series\n"
       ]
      }
     ],
     "prompt_number": 6
    },
    {
     "cell_type": "code",
     "collapsed": false,
     "input": [
      "ls"
     ],
     "language": "python",
     "metadata": {},
     "outputs": [
      {
       "output_type": "stream",
       "stream": "stdout",
       "text": [
        "BLS_script.ipynb  \u001b[34mcw\u001b[m\u001b[m/               index.html        \u001b[34mnl\u001b[m\u001b[m/\r\n",
        "\u001b[34map\u001b[m\u001b[m/               \u001b[34mcx\u001b[m\u001b[m/               \u001b[34mip\u001b[m\u001b[m/               \u001b[34mnw\u001b[m\u001b[m/\r\n",
        "apap.area.hql     \u001b[34meb\u001b[m\u001b[m/               \u001b[34mjl\u001b[m\u001b[m/               \u001b[34moe\u001b[m\u001b[m/\r\n",
        "\u001b[34mbd\u001b[m\u001b[m/               \u001b[34mec\u001b[m\u001b[m/               \u001b[34mjt\u001b[m\u001b[m/               \u001b[34mpc\u001b[m\u001b[m/\r\n",
        "\u001b[34mbg\u001b[m\u001b[m/               \u001b[34mee\u001b[m\u001b[m/               \u001b[34mla\u001b[m\u001b[m/               \u001b[34mpd\u001b[m\u001b[m/\r\n",
        "\u001b[34mbp\u001b[m\u001b[m/               \u001b[34mei\u001b[m\u001b[m/               \u001b[34mle\u001b[m\u001b[m/               \u001b[34mpi\u001b[m\u001b[m/\r\n",
        "\u001b[34mcc\u001b[m\u001b[m/               \u001b[34mesbr\u001b[m\u001b[m/             \u001b[34mli\u001b[m\u001b[m/               \u001b[34mpr\u001b[m\u001b[m/\r\n",
        "\u001b[34mcd\u001b[m\u001b[m/               \u001b[34mfi\u001b[m\u001b[m/               \u001b[34mln\u001b[m\u001b[m/               \u001b[34msa\u001b[m\u001b[m/\r\n",
        "\u001b[34mce\u001b[m\u001b[m/               \u001b[34mfm\u001b[m\u001b[m/               \u001b[34mlu\u001b[m\u001b[m/               \u001b[34msdmx\u001b[m\u001b[m/\r\n",
        "\u001b[34mcf\u001b[m\u001b[m/               \u001b[34mfw\u001b[m\u001b[m/               \u001b[34mml\u001b[m\u001b[m/               \u001b[34msh\u001b[m\u001b[m/\r\n",
        "\u001b[34mch\u001b[m\u001b[m/               \u001b[34mgg\u001b[m\u001b[m/               \u001b[34mmp\u001b[m\u001b[m/               \u001b[34msi\u001b[m\u001b[m/\r\n",
        "\u001b[34mci\u001b[m\u001b[m/               \u001b[34mgp\u001b[m\u001b[m/               \u001b[34mmu\u001b[m\u001b[m/               \u001b[34msm\u001b[m\u001b[m/\r\n",
        "\u001b[34mcm\u001b[m\u001b[m/               \u001b[34mhc\u001b[m\u001b[m/               \u001b[34mmw\u001b[m\u001b[m/               \u001b[34msu\u001b[m\u001b[m/\r\n",
        "\u001b[34mcompressed\u001b[m\u001b[m/       \u001b[34mhs\u001b[m\u001b[m/               \u001b[34mnb\u001b[m\u001b[m/               \u001b[34mwd\u001b[m\u001b[m/\r\n",
        "\u001b[34mcs\u001b[m\u001b[m/               \u001b[34mii\u001b[m\u001b[m/               \u001b[34mnc\u001b[m\u001b[m/               \u001b[34mwp\u001b[m\u001b[m/\r\n",
        "\u001b[34mcu\u001b[m\u001b[m/               \u001b[34min\u001b[m\u001b[m/               \u001b[34mnd\u001b[m\u001b[m/               \u001b[34mws\u001b[m\u001b[m/\r\n"
       ]
      }
     ],
     "prompt_number": 7
    },
    {
     "cell_type": "code",
     "collapsed": false,
     "input": [
      "cd ap/"
     ],
     "language": "python",
     "metadata": {},
     "outputs": [
      {
       "output_type": "stream",
       "stream": "stdout",
       "text": [
        "/Users/cubreto/Desktop/download.bls.gov/pub/time.series/ap\n"
       ]
      }
     ],
     "prompt_number": 8
    },
    {
     "cell_type": "code",
     "collapsed": false,
     "input": [
      "data = pd.read_table('/Users/cubreto/Desktop/download.bls.gov/pub/time.series/ap/ap.data.0.Current')"
     ],
     "language": "python",
     "metadata": {},
     "outputs": [],
     "prompt_number": 9
    },
    {
     "cell_type": "code",
     "collapsed": false,
     "input": [],
     "language": "python",
     "metadata": {},
     "outputs": [
      {
       "metadata": {},
       "output_type": "pyout",
       "prompt_number": 15,
       "text": [
        "<matplotlib.axes.AxesSubplot at 0x10f918950>"
       ]
      },
      {
       "metadata": {},
       "output_type": "display_data",
       "png": "[encoded data removed]",
       "text": [
        "<matplotlib.figure.Figure at 0x10c702fd0>"
       ]
      }
     ],
     "prompt_number": 15
    },
    {
     "cell_type": "code",
     "collapsed": false,
     "input": [
      "%pylab inline"
     ],
     "language": "python",
     "metadata": {},
     "outputs": [
      {
       "output_type": "stream",
       "stream": "stdout",
       "text": [
        "Populating the interactive namespace from numpy and matplotlib\n"
       ]
      }
     ],
     "prompt_number": 14
    },
    {
     "cell_type": "code",
     "collapsed": false,
     "input": [],
     "language": "python",
     "metadata": {},
     "outputs": []
    }
   ],
   "metadata": {}
  }
 ]
}